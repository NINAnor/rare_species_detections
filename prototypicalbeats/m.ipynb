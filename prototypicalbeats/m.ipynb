{
 "cells": [
  {
   "cell_type": "code",
   "execution_count": 53,
   "metadata": {},
   "outputs": [
    {
     "name": "stdout",
     "output_type": "stream",
     "text": [
      "The autoreload extension is already loaded. To reload it, use:\n",
      "  %reload_ext autoreload\n"
     ]
    }
   ],
   "source": [
    "%load_ext autoreload\n",
    "%autoreload 2"
   ]
  },
  {
   "cell_type": "code",
   "execution_count": 84,
   "metadata": {},
   "outputs": [],
   "source": [
    "import matplotlib.pyplot as plt\n",
    "import numpy as np\n",
    "\n",
    "import torch\n",
    "from torch.utils.data import DataLoader\n",
    "\n",
    "from sklearn.manifold import TSNE\n",
    "\n",
    "from tqdm import tqdm\n",
    "\n",
    "from prototypicalbeats.prototraining import ProtoBEATsModel\n",
    "from datamodules.miniECS50DataModule import miniECS50DataModule"
   ]
  },
  {
   "cell_type": "code",
   "execution_count": 72,
   "metadata": {},
   "outputs": [
    {
     "data": {
      "text/plain": [
       "<All keys matched successfully>"
      ]
     },
     "execution_count": 72,
     "metadata": {},
     "output_type": "execute_result"
    }
   ],
   "source": [
    "model = ProtoBEATsModel()\n",
    "checkpoints = torch.load(\"/app/prototypicalbeats/lightning_logs/version_49/checkpoints/epoch=14-step=1500.ckpt\")\n",
    "model.load_state_dict(checkpoints[\"state_dict\"])"
   ]
  },
  {
   "cell_type": "code",
   "execution_count": 188,
   "metadata": {},
   "outputs": [],
   "source": [
    "# Load only the validation dataset \n",
    "data_module = miniECS50DataModule()\n",
    "test_loader = data_module.test_dataloader()"
   ]
  },
  {
   "cell_type": "code",
   "execution_count": 190,
   "metadata": {},
   "outputs": [
    {
     "data": {
      "text/plain": [
       "10"
      ]
     },
     "execution_count": 190,
     "metadata": {},
     "output_type": "execute_result"
    }
   ],
   "source": [
    "data_module.n_task_test"
   ]
  },
  {
   "cell_type": "code",
   "execution_count": 191,
   "metadata": {},
   "outputs": [],
   "source": [
    "def evaluate_on_one_task(\n",
    "    n_way: int,\n",
    "    support_images: torch.Tensor,\n",
    "    support_labels: torch.Tensor,\n",
    "    query_images: torch.Tensor,\n",
    "    query_labels: torch.Tensor,\n",
    ") -> [int, int, torch.Tensor, torch.Tensor]:\n",
    "    \"\"\"\n",
    "    Returns the number of correct predictions of query labels, the total \n",
    "    number of predictions, and the coordinates of the prototypes and query images.\n",
    "    \"\"\"\n",
    "    support_embeddings, _ = model.get_embeddings(support_images.cuda(), padding_mask=None)\n",
    "    prototypes = model.get_prototypes(support_embeddings, support_labels.cuda(), n_way)\n",
    "    prototypes = prototypes.detach().cpu()\n",
    "    \n",
    "    query_embeddings, _ = model.get_embeddings(query_images.cuda(), padding_mask=None)\n",
    "    query_embeddings = query_embeddings.detach().cpu()\n",
    "\n",
    "    return (\n",
    "        torch.max(\n",
    "            model(\n",
    "                support_images.cuda(), \n",
    "                support_labels.cuda(), \n",
    "                query_images.cuda(),\n",
    "            )\n",
    "            .detach()\n",
    "            .data,\n",
    "            1,\n",
    "        )[1]\n",
    "        == query_labels.cuda()\n",
    "    ).sum().item(), len(query_labels), prototypes, query_embeddings\n",
    "\n",
    "\n",
    "def evaluate(data_loader: DataLoader, model, n_way, n_task):\n",
    "    # We'll count everything and compute the ratio at the end\n",
    "    total_predictions = 0\n",
    "    correct_predictions = 0\n",
    "    all_prototypes = []\n",
    "    all_query_embeddings = []\n",
    "    all_query_labels = []\n",
    "\n",
    "    # eval mode affects the behaviour of some layers (such as batch normalization or dropout)\n",
    "    # no_grad() tells torch not to keep in memory the whole computational graph (it's more lightweight this way)\n",
    "    model.eval().to(\"cuda\")\n",
    "    with torch.no_grad():\n",
    "        for episode_index, (\n",
    "            support_images,\n",
    "            support_labels,\n",
    "            query_images,\n",
    "            query_labels,\n",
    "            class_ids,\n",
    "        ) in tqdm(enumerate(data_loader), total=len(data_loader)):\n",
    "\n",
    "            correct, total, prototypes, query_embeddings = evaluate_on_one_task(\n",
    "                n_way, support_images, support_labels, query_images, query_labels\n",
    "            )\n",
    "\n",
    "            total_predictions += total\n",
    "            correct_predictions += correct\n",
    "            all_prototypes.append(prototypes)\n",
    "            all_query_embeddings.append(query_embeddings)\n",
    "            all_query_labels.append(query_labels)\n",
    "\n",
    "    # Concatenate all the prototypes and drop the token dimension\n",
    "    all_prototypes = torch.cat(all_prototypes, dim=0)\n",
    "    all_prototypes = all_prototypes[:,-1,:]\n",
    "    all_prototypes = all_prototypes.view(n_way, n_task, all_prototypes.shape[1]).mean(dim=1)\n",
    "    \n",
    "    # Calculate the mean\n",
    "    all_query_embeddings = torch.cat(all_query_embeddings, dim=0)\n",
    "    all_query_embeddings = all_query_embeddings[:,-1,:]\n",
    "    all_query_embeddings = all_query_embeddings.view(50, 10, 768).mean(dim=1)\n",
    "    \n",
    "    all_query_labels = torch.cat(all_query_labels, dim=0)\n",
    "\n",
    "    print(\n",
    "        f\"Model tested on {len(data_loader)} tasks. Accuracy: {(100 * correct_predictions/total_predictions):.2f}%\"\n",
    "    )\n",
    "\n",
    "    return prototypes, all_query_embeddings, all_query_labels"
   ]
  },
  {
   "cell_type": "code",
   "execution_count": 192,
   "metadata": {},
   "outputs": [
    {
     "name": "stderr",
     "output_type": "stream",
     "text": [
      " 20%|██        | 2/10 [00:25<01:40, 12.56s/it]"
     ]
    }
   ],
   "source": [
    "all_prototypes, all_query_embeddings, all_query_labels = evaluate(test_loader, model, 5, n_task=data_module.n_task_test)"
   ]
  },
  {
   "cell_type": "code",
   "execution_count": 166,
   "metadata": {},
   "outputs": [],
   "source": [
    "all_query_labels = all_query_labels[:50]\n",
    "proto_query = torch.cat([all_prototypes, all_query_embeddings])\n",
    "all_labels = torch.cat([torch.tensor([5,5,5,5,5,]), all_query_labels])"
   ]
  },
  {
   "cell_type": "code",
   "execution_count": 179,
   "metadata": {},
   "outputs": [],
   "source": [
    "all_query_embeddings = all_query_embeddings[:,-1,:]"
   ]
  },
  {
   "cell_type": "code",
   "execution_count": 186,
   "metadata": {},
   "outputs": [
    {
     "data": {
      "text/plain": [
       "tensor([[-0.3920, -0.4304, -0.6433,  ..., -0.9020, -0.3458, -0.5190],\n",
       "        [ 0.2411,  0.1170, -0.0973,  ..., -0.1960,  0.4911,  0.0683],\n",
       "        [ 0.4792,  0.6014, -0.1865,  ...,  0.3615, -0.6745,  0.4891],\n",
       "        ...,\n",
       "        [-0.3417, -0.3843, -0.6144,  ..., -0.8569, -0.2522, -0.4709],\n",
       "        [ 0.2403,  0.1138, -0.0991,  ..., -0.2023,  0.4905,  0.0691],\n",
       "        [-0.4647,  0.1111,  0.4968,  ...,  0.5928, -0.0934, -0.0602]])"
      ]
     },
     "execution_count": 186,
     "metadata": {},
     "output_type": "execute_result"
    }
   ],
   "source": []
  },
  {
   "cell_type": "code",
   "execution_count": 184,
   "metadata": {},
   "outputs": [
    {
     "data": {
      "text/plain": [
       "torch.Size([500, 768])"
      ]
     },
     "execution_count": 184,
     "metadata": {},
     "output_type": "execute_result"
    }
   ],
   "source": [
    "all_query_embeddings.shape"
   ]
  },
  {
   "cell_type": "code",
   "execution_count": 185,
   "metadata": {},
   "outputs": [
    {
     "data": {
      "text/plain": [
       "tensor([[[-0.3968, -0.4214, -0.6576,  ..., -0.9010, -0.3519, -0.5142],\n",
       "         [-0.3980, -0.4377, -0.6541,  ..., -0.9158, -0.3530, -0.5216],\n",
       "         [-0.3952, -0.4269, -0.6421,  ..., -0.9027, -0.3474, -0.5228],\n",
       "         ...,\n",
       "         [-0.3901, -0.4294, -0.6540,  ..., -0.9004, -0.3427, -0.5243],\n",
       "         [-0.3735, -0.4257, -0.5968,  ..., -0.8651, -0.3411, -0.5103],\n",
       "         [-0.3977, -0.4072, -0.6494,  ..., -0.9123, -0.3348, -0.5196]],\n",
       "\n",
       "        [[ 0.2303,  0.1000, -0.0600,  ..., -0.2564,  0.6093,  0.0074],\n",
       "         [ 0.2132,  0.0479, -0.0830,  ..., -0.2844,  0.6048,  0.0161],\n",
       "         [ 0.2107,  0.0494, -0.0831,  ..., -0.2756,  0.6037,  0.0160],\n",
       "         ...,\n",
       "         [ 0.2159,  0.0519, -0.0786,  ..., -0.2813,  0.6060,  0.0146],\n",
       "         [ 0.2154,  0.0583, -0.0788,  ..., -0.2779,  0.6037,  0.0198],\n",
       "         [ 0.2404,  0.1549, -0.0422,  ..., -0.2261,  0.5867,  0.0598]],\n",
       "\n",
       "        [[ 0.4711,  0.6288, -0.1874,  ...,  0.3698, -0.6883,  0.5079],\n",
       "         [ 0.4787,  0.5927, -0.1853,  ...,  0.3536, -0.6756,  0.4839],\n",
       "         [ 0.4827,  0.5914, -0.1908,  ...,  0.3572, -0.6785,  0.4889],\n",
       "         ...,\n",
       "         [ 0.4815,  0.6180, -0.1765,  ...,  0.3801, -0.6684,  0.4927],\n",
       "         [ 0.4832,  0.5943, -0.1899,  ...,  0.3606, -0.6751,  0.4833],\n",
       "         [ 0.4785,  0.5940, -0.1865,  ...,  0.3608, -0.6672,  0.4842]],\n",
       "\n",
       "        ...,\n",
       "\n",
       "        [[-0.3968, -0.4214, -0.6576,  ..., -0.9010, -0.3519, -0.5142],\n",
       "         [-0.4042, -0.4006, -0.6808,  ..., -0.9307, -0.3395, -0.5213],\n",
       "         [-0.3980, -0.4377, -0.6541,  ..., -0.9158, -0.3530, -0.5216],\n",
       "         ...,\n",
       "         [-0.3901, -0.4294, -0.6540,  ..., -0.9004, -0.3427, -0.5243],\n",
       "         [-0.4046, -0.4175, -0.6601,  ..., -0.9147, -0.3397, -0.5181],\n",
       "         [-0.3977, -0.4072, -0.6494,  ..., -0.9123, -0.3348, -0.5196]],\n",
       "\n",
       "        [[ 0.2404,  0.1549, -0.0422,  ..., -0.2261,  0.5867,  0.0598],\n",
       "         [ 0.2121,  0.0470, -0.0825,  ..., -0.2887,  0.6019,  0.0123],\n",
       "         [ 0.4420,  0.5641, -0.3066,  ...,  0.4686, -0.5215,  0.5168],\n",
       "         ...,\n",
       "         [ 0.2154,  0.0583, -0.0788,  ..., -0.2779,  0.6037,  0.0198],\n",
       "         [ 0.2138,  0.0555, -0.0794,  ..., -0.2806,  0.6017,  0.0220],\n",
       "         [ 0.2158,  0.0506, -0.0833,  ..., -0.2877,  0.6070,  0.0062]],\n",
       "\n",
       "        [[-0.4679,  0.1127,  0.4887,  ...,  0.5800, -0.0895, -0.0635],\n",
       "         [-0.4676,  0.1239,  0.5033,  ...,  0.6018, -0.0952, -0.0668],\n",
       "         [-0.4594,  0.1128,  0.4892,  ...,  0.6056, -0.0901, -0.0531],\n",
       "         ...,\n",
       "         [-0.4611,  0.1048,  0.4891,  ...,  0.6013, -0.1007, -0.0605],\n",
       "         [-0.4687,  0.1085,  0.4990,  ...,  0.5999, -0.1006, -0.0730],\n",
       "         [-0.4629,  0.0899,  0.4844,  ...,  0.5725, -0.0894, -0.0285]]])"
      ]
     },
     "execution_count": 185,
     "metadata": {},
     "output_type": "execute_result"
    }
   ],
   "source": [
    "all_query_embeddings.view(50,10,768)"
   ]
  },
  {
   "cell_type": "code",
   "execution_count": 176,
   "metadata": {},
   "outputs": [
    {
     "data": {
      "text/plain": [
       "tensor([4, 4, 4, 4, 4, 4, 4, 4, 4, 4, 2, 2, 2, 2, 2, 2, 2, 2, 2, 2, 3, 3, 3, 3,\n",
       "        3, 3, 3, 3, 3, 3, 1, 1, 1, 1, 1, 1, 1, 1, 1, 1, 0, 0, 0, 0, 0, 0, 0, 0,\n",
       "        0, 0, 1, 1, 1, 1, 1, 1, 1, 1, 1, 1, 2, 2, 2, 2, 2, 2, 2, 2, 2, 2, 4, 4,\n",
       "        4, 4, 4, 4, 4, 4, 4, 4, 0, 0, 0, 0, 0, 0, 0, 0, 0, 0, 3, 3, 3, 3, 3, 3,\n",
       "        3, 3, 3, 3, 0, 0, 0, 0, 0, 0, 0, 0, 0, 0, 1, 1, 1, 1, 1, 1, 1, 1, 1, 1,\n",
       "        4, 4, 4, 4, 4, 4, 4, 4, 4, 4, 3, 3, 3, 3, 3, 3, 3, 3, 3, 3, 2, 2, 2, 2,\n",
       "        2, 2, 2, 2, 2, 2, 3, 3, 3, 3, 3, 3, 3, 3, 3, 3, 4, 4, 4, 4, 4, 4, 4, 4,\n",
       "        4, 4, 0, 0, 0, 0, 0, 0, 0, 0, 0, 0, 1, 1, 1, 1, 1, 1, 1, 1, 1, 1, 2, 2,\n",
       "        2, 2, 2, 2, 2, 2, 2, 2, 4, 4, 4, 4, 4, 4, 4, 4, 4, 4, 2, 2, 2, 2, 2, 2,\n",
       "        2, 2, 2, 2, 3, 3, 3, 3, 3, 3, 3, 3, 3, 3, 0, 0, 0, 0, 0, 0, 0, 0, 0, 0,\n",
       "        1, 1, 1, 1, 1, 1, 1, 1, 1, 1, 4, 4, 4, 4, 4, 4, 4, 4, 4, 4, 2, 2, 2, 2,\n",
       "        2, 2, 2, 2, 2, 2, 3, 3, 3, 3, 3, 3, 3, 3, 3, 3, 1, 1, 1, 1, 1, 1, 1, 1,\n",
       "        1, 1, 0, 0, 0, 0, 0, 0, 0, 0, 0, 0, 3, 3, 3, 3, 3, 3, 3, 3, 3, 3, 0, 0,\n",
       "        0, 0, 0, 0, 0, 0, 0, 0, 1, 1, 1, 1, 1, 1, 1, 1, 1, 1, 2, 2, 2, 2, 2, 2,\n",
       "        2, 2, 2, 2, 4, 4, 4, 4, 4, 4, 4, 4, 4, 4, 0, 0, 0, 0, 0, 0, 0, 0, 0, 0,\n",
       "        1, 1, 1, 1, 1, 1, 1, 1, 1, 1, 3, 3, 3, 3, 3, 3, 3, 3, 3, 3, 2, 2, 2, 2,\n",
       "        2, 2, 2, 2, 2, 2, 4, 4, 4, 4, 4, 4, 4, 4, 4, 4, 4, 4, 4, 4, 4, 4, 4, 4,\n",
       "        4, 4, 0, 0, 0, 0, 0, 0, 0, 0, 0, 0, 3, 3, 3, 3, 3, 3, 3, 3, 3, 3, 2, 2,\n",
       "        2, 2, 2, 2, 2, 2, 2, 2, 1, 1, 1, 1, 1, 1, 1, 1, 1, 1, 0, 0, 0, 0, 0, 0,\n",
       "        0, 0, 0, 0, 3, 3, 3, 3, 3, 3, 3, 3, 3, 3, 4, 4, 4, 4, 4, 4, 4, 4, 4, 4,\n",
       "        2, 2, 2, 2, 2, 2, 2, 2, 2, 2, 1, 1, 1, 1, 1, 1, 1, 1, 1, 1])"
      ]
     },
     "execution_count": 176,
     "metadata": {},
     "output_type": "execute_result"
    }
   ],
   "source": [
    "all_query_labels"
   ]
  },
  {
   "cell_type": "code",
   "execution_count": 164,
   "metadata": {},
   "outputs": [],
   "source": [
    "def get_2d_features(features, perplexity):\n",
    "    tsne = TSNE(n_components=2, perplexity=perplexity)\n",
    "    features_2d = tsne.fit_transform(features)\n",
    "\n",
    "    return features_2d\n",
    "\n",
    "def get_figure(features_2d, labels, fig_name):\n",
    "\n",
    "    query_2d = features_2d[5:]\n",
    "    query_labels = labels[5:]\n",
    "\n",
    "    proto_2d = features_2d[:5]\n",
    "    proto_labels = labels[:5]\n",
    "\n",
    "    fig = sns.scatterplot(x=query_2d[:, 0], y=query_2d[:, 1], hue=query_labels, palette=\"deep\")\n",
    "    sns.scatterplot(x=proto_2d[:, 0], y=proto_2d[:, 1], hue=proto_labels, palette=\"deep\", marker='s', s=100)\n",
    "    \n",
    "    sns.move_legend(fig, \"upper left\", bbox_to_anchor=(1, 1))\n",
    "    fig.get_figure().savefig(fig_name, bbox_inches=\"tight\")\n",
    "    plt.show()"
   ]
  },
  {
   "cell_type": "code",
   "execution_count": 146,
   "metadata": {},
   "outputs": [
    {
     "name": "stderr",
     "output_type": "stream",
     "text": [
      "/usr/local/lib/python3.8/site-packages/sklearn/manifold/_t_sne.py:800: FutureWarning: The default initialization in TSNE will change from 'random' to 'pca' in 1.2.\n",
      "  warnings.warn(\n",
      "/usr/local/lib/python3.8/site-packages/sklearn/manifold/_t_sne.py:810: FutureWarning: The default learning rate in TSNE will change from 200.0 to 'auto' in 1.2.\n",
      "  warnings.warn(\n"
     ]
    }
   ],
   "source": [
    "import seaborn as sns\n",
    "\n",
    "\n",
    "features = proto_query[:, -1, :]\n",
    "features_2d = TSNE(n_components=2, perplexity=7).fit_transform(features)"
   ]
  },
  {
   "cell_type": "code",
   "execution_count": 165,
   "metadata": {},
   "outputs": [
    {
     "data": {
      "image/png": "[encoded data removed]",
      "text/plain": [
       "<Figure size 640x480 with 1 Axes>"
      ]
     },
     "metadata": {},
     "output_type": "display_data"
    }
   ],
   "source": [
    "\n",
    "get_figure(features_2d, all_labels, \"protoembeddings.png\")"
   ]
  }
 ],
 "metadata": {
  "kernelspec": {
   "display_name": "Python 3",
   "language": "python",
   "name": "python3"
  },
  "language_info": {
   "codemirror_mode": {
    "name": "ipython",
    "version": 3
   },
   "file_extension": ".py",
   "mimetype": "text/x-python",
   "name": "python",
   "nbconvert_exporter": "python",
   "pygments_lexer": "ipython3",
   "version": "3.8.16"
  },
  "orig_nbformat": 4,
  "vscode": {
   "interpreter": {
    "hash": "949777d72b0d2535278d3dc13498b2535136f6dfe0678499012e853ee9abcab1"
   }
  }
 },
 "nbformat": 4,
 "nbformat_minor": 2
}
