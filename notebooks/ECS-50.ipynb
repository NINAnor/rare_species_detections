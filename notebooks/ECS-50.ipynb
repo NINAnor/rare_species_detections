{
 "cells": [
  {
   "cell_type": "code",
   "execution_count": null,
   "metadata": {},
   "outputs": [],
   "source": [
    "import glob\n",
    "import pandas as pd\n",
    "import os\n",
    "import torch\n",
    "import librosa\n",
    "import random\n",
    "\n",
    "from BEATs.Tokenizers import TokenizersConfig, Tokenizers\n",
    "from BEATs.BEATs import BEATs, BEATsConfig\n",
    "\n",
    "data_folder = \"/data/ESC-50-master/\"\n",
    "audio = glob.glob(\"/data/ESC-50-master/audio/*.wav\")\n",
    "labels = pd.read_csv(\"/data/ESC-50-master/meta/esc50.csv\")"
   ]
  },
  {
   "cell_type": "code",
   "execution_count": null,
   "metadata": {},
   "outputs": [],
   "source": [
    "random_cat = random.sample(list(labels['category'].unique()), 5)\n",
    "labels = labels[labels[\"category\"].isin(random_cat)].sample(100)"
   ]
  },
  {
   "cell_type": "code",
   "execution_count": null,
   "metadata": {},
   "outputs": [],
   "source": [
    "df_audio = pd.DataFrame(audio, columns=[\"filepath\"])\n",
    "df_audio[\"filename\"] = [f.split(\"/\")[-1] for f in audio]\n",
    "df_audio"
   ]
  },
  {
   "cell_type": "code",
   "execution_count": null,
   "metadata": {},
   "outputs": [],
   "source": []
  },
  {
   "cell_type": "code",
   "execution_count": null,
   "metadata": {},
   "outputs": [],
   "source": [
    "filepath_labels = labels.merge(df_audio, how=\"inner\", on=\"filename\")"
   ]
  },
  {
   "cell_type": "code",
   "execution_count": null,
   "metadata": {},
   "outputs": [],
   "source": [
    "filepath_labels"
   ]
  },
  {
   "cell_type": "code",
   "execution_count": null,
   "metadata": {},
   "outputs": [],
   "source": [
    "list(filepath_labels[\"filepath_x\"])"
   ]
  },
  {
   "cell_type": "code",
   "execution_count": null,
   "metadata": {},
   "outputs": [],
   "source": [
    "# Open file and resample at 16000Hz\n",
    "trs = []\n",
    "l = []\n",
    "\n",
    "for afile in audio:\n",
    "    sig, sr = librosa.load(afile, sr = 16000, mono=True)\n",
    "    sig_t = torch.tensor(sig).unsqueeze(0)\n",
    "    trs.append(sig_t)\n",
    "    l.append(afile.split(\"/\")[-2])"
   ]
  },
  {
   "cell_type": "code",
   "execution_count": null,
   "metadata": {},
   "outputs": [],
   "source": [
    "# load the pre-trained checkpoints\n",
    "checkpoint = torch.load('/data/BEATs/BEATs_iter3_plus_AS2M.pt')\n",
    "cfg = BEATsConfig(checkpoint['cfg'])\n",
    "BEATs_model = BEATs(cfg)\n",
    "BEATs_model.load_state_dict(checkpoint['model'])\n",
    "BEATs_model.eval()\n",
    "\n",
    "# extract the the audio representation\n",
    "l_representations = []\n",
    "\n",
    "for t in trs:\n",
    "    padding_mask = torch.zeros(t.shape[0], t.shape[1]).bool()\n",
    "    representation = BEATs_model.extract_features(t, padding_mask=padding_mask)[0]\n",
    "    l_representations.append(representation[:,-1,:]) # Take only the last dimension as this is the encoded audio"
   ]
  },
  {
   "cell_type": "code",
   "execution_count": null,
   "metadata": {},
   "outputs": [],
   "source": [
    "from sklearn.manifold import TSNE\n",
    "import torch\n",
    "\n",
    "representation = torch.cat(l_representations, dim=0)\n",
    "representation = representation.detach().numpy()\n",
    "tsne = TSNE(n_components=2, perplexity=5)\n",
    "representation_2d = tsne.fit_transform(representation)"
   ]
  },
  {
   "cell_type": "code",
   "execution_count": null,
   "metadata": {},
   "outputs": [],
   "source": [
    "import seaborn as sns\n",
    "sns.scatterplot(x = representation_2d[:, 0], y = representation_2d[:, 1], hue = labels['category'])"
   ]
  }
 ],
 "metadata": {
  "kernelspec": {
   "display_name": "Python 3",
   "language": "python",
   "name": "python3"
  },
  "language_info": {
   "codemirror_mode": {
    "name": "ipython",
    "version": 3
   },
   "file_extension": ".py",
   "mimetype": "text/x-python",
   "name": "python",
   "nbconvert_exporter": "python",
   "pygments_lexer": "ipython3",
   "version": "3.9.2"
  },
  "orig_nbformat": 4,
  "vscode": {
   "interpreter": {
    "hash": "31f2aee4e71d21fbe5cf8b01ff0e069b9275f58929596ceb00d14d90e3e16cd6"
   }
  }
 },
 "nbformat": 4,
 "nbformat_minor": 2
}
