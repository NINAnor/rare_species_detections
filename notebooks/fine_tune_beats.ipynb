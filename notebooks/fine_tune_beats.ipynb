{
 "cells": [
  {
   "cell_type": "code",
   "execution_count": 16,
   "metadata": {},
   "outputs": [],
   "source": [
    "import glob\n",
    "import pandas as pd\n",
    "import os\n",
    "import torch\n",
    "import librosa\n",
    "import random\n",
    "import torch.nn as nn\n",
    "\n",
    "from BEATs.Tokenizers import TokenizersConfig, Tokenizers\n",
    "from BEATs.BEATs import BEATs, BEATsConfig"
   ]
  },
  {
   "cell_type": "code",
   "execution_count": null,
   "metadata": {},
   "outputs": [],
   "source": [
    "data_folder = \"/data/ESC-50-master\"\n",
    "audio = glob.glob(data_folder + \"/audio/*.wav\", recursive=True)\n",
    "labels = pd.read_csv(os.path.join(data_folder, \"meta/esc50.csv\"))"
   ]
  },
  {
   "cell_type": "code",
   "execution_count": null,
   "metadata": {},
   "outputs": [],
   "source": [
    "df_audio = pd.DataFrame(audio, columns=[\"filepath\"])\n",
    "df_audio[\"filename\"] = [f.split(\"/\")[-1] for f in audio]\n",
    "filepath_labels = labels.merge(df_audio, how=\"inner\", on=\"filename\")"
   ]
  },
  {
   "cell_type": "code",
   "execution_count": 63,
   "metadata": {},
   "outputs": [],
   "source": [
    "# load the pre-trained checkpoints\n",
    "checkpoint = torch.load('/data/BEATs/BEATs_iter3_plus_AS2M.pt')\n",
    "cfg = BEATsConfig(\n",
    "            {\n",
    "                **checkpoint[\"cfg\"]\n",
    "            }\n",
    "        )\n",
    "BEATs_model = BEATs(cfg)\n",
    "\n",
    "ft = torch.load(\"/app/lightning_logs/version_0/checkpoints/epoch=9-step=500.ckpt\")\n",
    "ft[\"state_dict\"] = {key.replace('beats.', ''): value for key, value in ft[\"state_dict\"].items() if not key.endswith(('fc.weight', 'fc.bias'))}\n",
    "BEATs_model.load_state_dict(ft[\"state_dict\"])"
   ]
  },
  {
   "cell_type": "code",
   "execution_count": 85,
   "metadata": {},
   "outputs": [],
   "source": []
  },
  {
   "cell_type": "code",
   "execution_count": 88,
   "metadata": {},
   "outputs": [
    {
     "data": {
      "text/plain": [
       "<All keys matched successfully>"
      ]
     },
     "execution_count": 88,
     "metadata": {},
     "output_type": "execute_result"
    }
   ],
   "source": []
  }
 ],
 "metadata": {
  "kernelspec": {
   "display_name": "Python 3",
   "language": "python",
   "name": "python3"
  },
  "language_info": {
   "codemirror_mode": {
    "name": "ipython",
    "version": 3
   },
   "file_extension": ".py",
   "mimetype": "text/x-python",
   "name": "python",
   "nbconvert_exporter": "python",
   "pygments_lexer": "ipython3",
   "version": "3.8.16"
  },
  "orig_nbformat": 4,
  "vscode": {
   "interpreter": {
    "hash": "949777d72b0d2535278d3dc13498b2535136f6dfe0678499012e853ee9abcab1"
   }
  }
 },
 "nbformat": 4,
 "nbformat_minor": 2
}
